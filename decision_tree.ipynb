{
  "nbformat": 4,
  "nbformat_minor": 0,
  "metadata": {
    "colab": {
      "provenance": [],
      "authorship_tag": "ABX9TyNHZmoyaQ0JFTzAvrKnoJv4",
      "include_colab_link": true
    },
    "kernelspec": {
      "name": "python3",
      "display_name": "Python 3"
    },
    "language_info": {
      "name": "python"
    }
  },
  "cells": [
    {
      "cell_type": "markdown",
      "metadata": {
        "id": "view-in-github",
        "colab_type": "text"
      },
      "source": [
        "<a href=\"https://colab.research.google.com/github/abc123-ux/Demo/blob/main/decision_tree.ipynb\" target=\"_parent\"><img src=\"https://colab.research.google.com/assets/colab-badge.svg\" alt=\"Open In Colab\"/></a>"
      ]
    },
    {
      "cell_type": "code",
      "execution_count": 2,
      "metadata": {
        "id": "OWUBXjoIX1Ow"
      },
      "outputs": [],
      "source": [
        "from sklearn import tree"
      ]
    },
    {
      "cell_type": "code",
      "source": [
        "x=[[181,80,44],[177,70,43],[160,60,38],[154,54,37],[166,65,40],[190,90,47],[175,64,39],[177,70,40],[171,75,42],[181,85,43]]"
      ],
      "metadata": {
        "id": "LaP83zOwYePM"
      },
      "execution_count": 3,
      "outputs": []
    },
    {
      "cell_type": "code",
      "source": [
        "y=['male',\"female\",\"female\",\"female\",\"male\",\"male\",\"male\",\"female\",\"female\",\"male\"]"
      ],
      "metadata": {
        "id": "THyq2YHZZKJE"
      },
      "execution_count": 10,
      "outputs": []
    },
    {
      "cell_type": "code",
      "source": [
        "clf=tree.DecisionTreeClassifier()\n",
        "clf=clf.fit(x,y)"
      ],
      "metadata": {
        "id": "pBcfujqFZk-h"
      },
      "execution_count": 11,
      "outputs": []
    },
    {
      "cell_type": "code",
      "source": [
        "prediction=clf.predict([[189,79,43]])\n",
        "print (prediction)"
      ],
      "metadata": {
        "colab": {
          "base_uri": "https://localhost:8080/"
        },
        "id": "5QzF4rnsZyxr",
        "outputId": "526bda62-dbce-4180-9fd9-d3f2c5205ecf"
      },
      "execution_count": 13,
      "outputs": [
        {
          "output_type": "stream",
          "name": "stdout",
          "text": [
            "['male']\n"
          ]
        }
      ]
    }
  ]
}